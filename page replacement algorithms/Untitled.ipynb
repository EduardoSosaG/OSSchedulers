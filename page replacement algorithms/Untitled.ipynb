{
 "cells": [
  {
   "cell_type": "code",
   "execution_count": 1,
   "id": "7b2db464",
   "metadata": {},
   "outputs": [],
   "source": [
    "import fifo_replacement as fr\n",
    "import lru_replacement as lr\n",
    "import lfu_replacement as lfu\n",
    "import mfu_replacement as mfu\n",
    "import optimal_replacement as opt\n",
    "import reference_string as rs"
   ]
  },
  {
   "cell_type": "code",
   "execution_count": 2,
   "id": "14e41739",
   "metadata": {},
   "outputs": [],
   "source": [
    "strings = []\n",
    "fr_pf = []\n",
    "opt_pf = []\n",
    "lru_pf = []\n",
    "lfu_pf = []\n",
    "mfu_pf = []\n",
    "x_values = []\n",
    "for i in range(5):\n",
    "    x_values.append(i)\n",
    "    replace_fr = fr.FIFOReplacement()\n",
    "    replace_opt = opt.OPTReplacement()\n",
    "    replace_lr = lr.LRUReplacement()\n",
    "    replace_lfu = lfu.LFUReplacement()\n",
    "    replace_mfu = mfu.MFUReplacement()\n",
    "    string = rs.probability_string(10000)\n",
    "    lru_pf.append(replace_lr.execute(string))\n",
    "    opt_pf.append(replace_opt.execute(string))\n",
    "    fr_pf.append(replace_fr.execute(string))\n",
    "    lfu_pf.append(replace_lfu.execute(string))\n",
    "    mfu_pf.append(replace_mfu.execute(string))\n",
    "\n",
    "    "
   ]
  },
  {
   "cell_type": "code",
   "execution_count": 3,
   "id": "1bccec01",
   "metadata": {},
   "outputs": [],
   "source": [
    "# locality = []\n",
    "# nonlocality = []\n",
    "# x_values = []\n",
    "# for i in range(5):\n",
    "#     x_values.append(i)\n",
    "#     replace_fr = opt.OPTReplacement()\n",
    "#     local = rs.locality_string(100)\n",
    "#     nolocal = rs.nonlocality_string(100)\n",
    "#     locality.append(replace_fr.execute(local))\n",
    "#     replace_fr = opt.OPTReplacement()\n",
    "#     nonlocality.append(replace_fr.execute(nolocal))"
   ]
  },
  {
   "cell_type": "code",
   "execution_count": 4,
   "id": "7fd3005c",
   "metadata": {},
   "outputs": [],
   "source": [
    "# import matplotlib.pyplot as plt\n",
    "# plt.rcParams[\"figure.figsize\"] = (12,5)\n",
    "# plt.plot(x_values, locality, color='red', label = \"locality\")\n",
    "# plt.plot(x_values, nonlocality, color='orange', label = \"nonlocality\")\n",
    "# plt.title('Pages Faults vs locality for LRU', fontsize=14)\n",
    "# plt.xlabel('Trial', fontsize=14)\n",
    "# plt.ylabel('Page Faults', fontsize=14)\n",
    "# plt.legend()\n",
    "# plt.show()"
   ]
  },
  {
   "cell_type": "code",
   "execution_count": 5,
   "id": "8f25a7a9",
   "metadata": {},
   "outputs": [
    {
     "data": {
      "image/png": "[encoded data removed]",
      "text/plain": [
       "<Figure size 1080x576 with 1 Axes>"
      ]
     },
     "metadata": {
      "needs_background": "light"
     },
     "output_type": "display_data"
    }
   ],
   "source": [
    "import matplotlib.pyplot as plt\n",
    "br2 = [x - 0.15 for x in x_values]\n",
    "br3 = [x + 0.15 for x in x_values]\n",
    "br4 = [x + 0.30 for x in x_values]\n",
    "br5 = [x - 0.30 for x in x_values]\n",
    "plt.rcParams[\"figure.figsize\"] = (15,8)\n",
    "plt.bar(x_values, fr_pf, color='red', label = \"FIFO\", width = 0.15)\n",
    "plt.bar(br2, lru_pf, color='orange', label = \"LRU\", width = 0.15)\n",
    "plt.bar(br3, opt_pf, color='black', label = \"OPT\", width = 0.15)\n",
    "plt.bar(br4, mfu_pf, color='blue', label = \"MFU\", width = 0.15)\n",
    "plt.bar(br5, lfu_pf, color='green', label = \"LFU\", width = 0.15)\n",
    "plt.title('Pages Faults vs Trial', fontsize=14)\n",
    "plt.xlabel('Trial', fontsize=14)\n",
    "plt.ylabel('Page Faults', fontsize=14)\n",
    "plt.legend()\n",
    "plt.show()\n",
    "\n"
   ]
  },
  {
   "cell_type": "code",
   "execution_count": 6,
   "id": "a9b9a314",
   "metadata": {},
   "outputs": [],
   "source": [
    "# replace_fr = fr.FIFOReplacement()\n",
    "# replace_fr.execute(nonlocality)"
   ]
  },
  {
   "cell_type": "code",
   "execution_count": 7,
   "id": "f3e7d1c5",
   "metadata": {},
   "outputs": [],
   "source": [
    "# replace_lr = lr.LRUReplacement()\n",
    "# replace_lr.execute(nonlocality)"
   ]
  },
  {
   "cell_type": "code",
   "execution_count": 8,
   "id": "ec63840e",
   "metadata": {},
   "outputs": [],
   "source": [
    "# replace_opt = opt.OPTReplacement()\n",
    "# replace_opt.execute(nonlocality)"
   ]
  }
 ],
 "metadata": {
  "kernelspec": {
   "display_name": "Python 3",
   "language": "python",
   "name": "python3"
  },
  "language_info": {
   "codemirror_mode": {
    "name": "ipython",
    "version": 3
   },
   "file_extension": ".py",
   "mimetype": "text/x-python",
   "name": "python",
   "nbconvert_exporter": "python",
   "pygments_lexer": "ipython3",
   "version": "3.9.12"
  }
 },
 "nbformat": 4,
 "nbformat_minor": 5
}
