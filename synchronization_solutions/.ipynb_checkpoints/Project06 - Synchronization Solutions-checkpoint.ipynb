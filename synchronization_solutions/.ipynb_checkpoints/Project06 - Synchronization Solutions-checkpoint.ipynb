{
 "cells": [
  {
   "cell_type": "markdown",
   "id": "661819b7",
   "metadata": {},
   "source": [
    "# Project 06 - Synchronization Solutions"
   ]
  },
  {
   "cell_type": "code",
   "execution_count": 1,
   "id": "f61c5654",
   "metadata": {},
   "outputs": [],
   "source": [
    "import solution_one\n",
    "import solution_two\n",
    "import peterson_solution\n",
    "import bakery_solution"
   ]
  },
  {
   "cell_type": "markdown",
   "id": "89654812",
   "metadata": {},
   "source": [
    "## Abstract\n",
    "\n",
    "In this project, we take into account when two or more threads access a critical section. Having two or more threads accessing a critical section is not good practice since it means that multiple threads are making changes to global resources at the same time which leads to race conditions and errors. In this project, we attempt to solve these problems by analyzing whether our proposed solutions have three properties: does the solution guarantee mutual exclusion (only one thread accesses the critical section), is progress being made (only those threads that need access to the critical section can decide who enters it), and bounded wait time (no thread ever starves forever). We propose four solutions and test them for the above properties."
   ]
  },
  {
   "cell_type": "markdown",
   "id": "942e005b",
   "metadata": {},
   "source": [
    "## Results and Discussion\n",
    "\n",
    "First thing we want to do is to create a race condition where we can test our solutions to see if they can solve some of the problems that can arise from multiple threads accessing the same resource. The below code was kindly given to me by professor Al Madi. It creates a race condition when no lock is used (or a lock that violates the mutual exclusion property)."
   ]
  },
  {
   "cell_type": "code",
   "execution_count": 6,
   "id": "0649de48",
   "metadata": {
    "scrolled": true
   },
   "outputs": [
    {
     "name": "stdout",
     "output_type": "stream",
     "text": [
      "Iteration 0: x = 161769\n",
      "Iteration 1: x = 200000\n",
      "Iteration 2: x = 200000\n",
      "Iteration 3: x = 200000\n",
      "Iteration 4: x = 200000\n",
      "Iteration 5: x = 200000\n",
      "Iteration 6: x = 200000\n",
      "Iteration 7: x = 200000\n",
      "Iteration 8: x = 200000\n",
      "Iteration 9: x = 200000\n"
     ]
    }
   ],
   "source": [
    "import threading\n",
    " \n",
    "x = 0\n",
    " \n",
    "def increment():\n",
    "    global x\n",
    "    x += 1\n",
    " \n",
    "def thread1_task(lock, my_num):\n",
    "    global turn\n",
    "   \n",
    "    for _ in range(100000):\n",
    "        increment()\n",
    " \n",
    "def thread2_task(lock, my_num):\n",
    "    global turn\n",
    "   \n",
    "    for _ in range(100000):\n",
    "        increment()\n",
    "def main_task():\n",
    "    global x\n",
    " \n",
    "    x = 0\n",
    "   \n",
    "    # create a lock\n",
    "    lock = solution_one.SolutionOne()\n",
    "   \n",
    "    t1 = threading.Thread(target=thread1_task, args=(lock, 1, ))\n",
    "    t2 = threading.Thread(target=thread2_task, args=(lock, 2, ))\n",
    " \n",
    "    t1.start()\n",
    "    t2.start()\n",
    " \n",
    "    t1.join()\n",
    "    t2.join()\n",
    " \n",
    "for i in range(10):\n",
    "    main_task()\n",
    "    print(\"Iteration {0}: x = {1}\".format(i,x)) "
   ]
  },
  {
   "cell_type": "markdown",
   "id": "e5bfa8bf",
   "metadata": {},
   "source": [
    "As can be seen above, iteration three creates a value of 179349 instead of 200000 like the rest. Clearly in that iteration, the two threads accessed x and this created the wrong sum when x was incremented.\n",
    "\n",
    "### Solution One:\n",
    "\n",
    "In our first solution, we try to solve this by having the threads take turns when they go into the critical section. To see whether this solution solves all our problems, we'll see if mutual exclusion is solved and whether progress is also solved:"
   ]
  },
  {
   "cell_type": "code",
   "execution_count": 3,
   "id": "30d8cc96",
   "metadata": {},
   "outputs": [
    {
     "name": "stdout",
     "output_type": "stream",
     "text": [
      "Iteration 0: x = 20000\n",
      "Iteration 1: x = 20000\n",
      "Iteration 2: x = 20000\n",
      "Iteration 3: x = 20000\n",
      "Iteration 4: x = 20000\n",
      "Iteration 5: x = 20000\n",
      "Iteration 6: x = 20000\n",
      "Iteration 7: x = 20000\n",
      "Iteration 8: x = 20000\n",
      "Iteration 9: x = 20000\n"
     ]
    }
   ],
   "source": [
    "import time\n",
    "def thread1_task(lock, my_num):\n",
    "    global turn\n",
    "\n",
    "    for _ in range(10000):\n",
    "        lock.lock(my_num)\n",
    "        increment()\n",
    "        lock.unlock(my_num)\n",
    "        time.sleep(0.0001)\n",
    " \n",
    "def thread2_task(lock, my_num):\n",
    "    global turn\n",
    "   \n",
    "    for _ in range(10000):\n",
    "        lock.lock(my_num)\n",
    "        increment()\n",
    "        lock.unlock(my_num)\n",
    "        time.sleep(0.0001)\n",
    "def main_task():\n",
    "    global x\n",
    " \n",
    "    x = 0\n",
    "   \n",
    "    # create a lock\n",
    "    lock = solution_one.SolutionOne()\n",
    "   \n",
    "    t1 = threading.Thread(target=thread1_task, args=(lock, 1, ))\n",
    "    t2 = threading.Thread(target=thread2_task, args=(lock, 2, ))\n",
    " \n",
    "    t1.start()\n",
    "    t2.start()\n",
    " \n",
    "    t1.join()\n",
    "    t2.join()\n",
    " \n",
    "for i in range(10):\n",
    "    main_task()\n",
    "    print(\"Iteration {0}: x = {1}\".format(i,x))"
   ]
  },
  {
   "cell_type": "markdown",
   "id": "b34a7afe",
   "metadata": {},
   "source": [
    "As we can see above, we do not run into the same problem. This makes sense, since one of the threads will always be in the foreve while loop while the other in the critical section. Only after the thread in the critical section finishes will the other thread be able to exit the while loop and enter the critical section. \n",
    "\n",
    "Is there progress? The answer is no. To prove this, we can have two threads running, but one finishing before the other: "
   ]
  },
  {
   "cell_type": "code",
   "execution_count": 4,
   "id": "875e16dd",
   "metadata": {
    "scrolled": false
   },
   "outputs": [
    {
     "name": "stdout",
     "output_type": "stream",
     "text": [
      "thread 1, turn:  0\n",
      "thread 2, turn:  0\n",
      "thread 1, turn:  1\n",
      "thread 2, turn:  1\n",
      "thread 1, turn:  2\n",
      "thread 2, turn:  2\n",
      "thread 1, turn:  3\n",
      "thread 2, turn:  3\n",
      "thread 1, turn:  4\n",
      "thread 2, turn:  4\n",
      "thread 1, turn:  5\n"
     ]
    },
    {
     "name": "stderr",
     "output_type": "stream",
     "text": [
      "ERROR:root:Internal Python error in the inspect module.\n",
      "Below is the traceback from this internal error.\n",
      "\n"
     ]
    },
    {
     "name": "stdout",
     "output_type": "stream",
     "text": [
      "Traceback (most recent call last):\n",
      "  File \"/opt/homebrew/lib/python3.9/site-packages/IPython/core/interactiveshell.py\", line 3441, in run_code\n",
      "    exec(code_obj, self.user_global_ns, self.user_ns)\n",
      "  File \"<ipython-input-4-78e4dc0a205c>\", line 37, in <module>\n",
      "    main_task()\n",
      "  File \"<ipython-input-4-78e4dc0a205c>\", line 33, in main_task\n",
      "    t1.join()\n",
      "  File \"/opt/homebrew/Cellar/python@3.9/3.9.12/Frameworks/Python.framework/Versions/3.9/lib/python3.9/threading.py\", line 1053, in join\n",
      "    self._wait_for_tstate_lock()\n",
      "  File \"/opt/homebrew/Cellar/python@3.9/3.9.12/Frameworks/Python.framework/Versions/3.9/lib/python3.9/threading.py\", line 1073, in _wait_for_tstate_lock\n",
      "    if lock.acquire(block, timeout):\n",
      "KeyboardInterrupt\n",
      "\n",
      "During handling of the above exception, another exception occurred:\n",
      "\n",
      "Traceback (most recent call last):\n",
      "  File \"/opt/homebrew/lib/python3.9/site-packages/IPython/core/interactiveshell.py\", line 2061, in showtraceback\n",
      "    stb = value._render_traceback_()\n",
      "AttributeError: 'KeyboardInterrupt' object has no attribute '_render_traceback_'\n",
      "\n",
      "During handling of the above exception, another exception occurred:\n",
      "\n",
      "Traceback (most recent call last):\n",
      "  File \"/opt/homebrew/lib/python3.9/site-packages/IPython/core/ultratb.py\", line 1101, in get_records\n",
      "    return _fixed_getinnerframes(etb, number_of_lines_of_context, tb_offset)\n",
      "  File \"/opt/homebrew/lib/python3.9/site-packages/IPython/core/ultratb.py\", line 248, in wrapped\n",
      "    return f(*args, **kwargs)\n",
      "  File \"/opt/homebrew/lib/python3.9/site-packages/IPython/core/ultratb.py\", line 281, in _fixed_getinnerframes\n",
      "    records = fix_frame_records_filenames(inspect.getinnerframes(etb, context))\n",
      "  File \"/opt/homebrew/Cellar/python@3.9/3.9.12/Frameworks/Python.framework/Versions/3.9/lib/python3.9/inspect.py\", line 1543, in getinnerframes\n",
      "    frameinfo = (tb.tb_frame,) + getframeinfo(tb, context)\n",
      "  File \"/opt/homebrew/Cellar/python@3.9/3.9.12/Frameworks/Python.framework/Versions/3.9/lib/python3.9/inspect.py\", line 1501, in getframeinfo\n",
      "    filename = getsourcefile(frame) or getfile(frame)\n",
      "  File \"/opt/homebrew/Cellar/python@3.9/3.9.12/Frameworks/Python.framework/Versions/3.9/lib/python3.9/inspect.py\", line 709, in getsourcefile\n",
      "    if getattr(getmodule(object, filename), '__loader__', None) is not None:\n",
      "  File \"/opt/homebrew/Cellar/python@3.9/3.9.12/Frameworks/Python.framework/Versions/3.9/lib/python3.9/inspect.py\", line 755, in getmodule\n",
      "    os.path.realpath(f)] = module.__name__\n",
      "  File \"/opt/homebrew/Cellar/python@3.9/3.9.12/Frameworks/Python.framework/Versions/3.9/lib/python3.9/posixpath.py\", line 392, in realpath\n",
      "    path, ok = _joinrealpath(filename[:0], filename, {})\n",
      "  File \"/opt/homebrew/Cellar/python@3.9/3.9.12/Frameworks/Python.framework/Versions/3.9/lib/python3.9/posixpath.py\", line 426, in _joinrealpath\n",
      "    if not islink(newpath):\n",
      "  File \"/opt/homebrew/Cellar/python@3.9/3.9.12/Frameworks/Python.framework/Versions/3.9/lib/python3.9/posixpath.py\", line 167, in islink\n",
      "    st = os.lstat(path)\n",
      "KeyboardInterrupt\n"
     ]
    },
    {
     "ename": "TypeError",
     "evalue": "object of type 'NoneType' has no len()",
     "output_type": "error",
     "traceback": [
      "\u001b[0;31m---------------------------------------------------------------------------\u001b[0m",
      "\u001b[0;31mKeyboardInterrupt\u001b[0m                         Traceback (most recent call last)",
      "    \u001b[0;31m[... skipping hidden 1 frame]\u001b[0m\n",
      "\u001b[0;32m<ipython-input-4-78e4dc0a205c>\u001b[0m in \u001b[0;36m<module>\u001b[0;34m\u001b[0m\n\u001b[1;32m     36\u001b[0m \u001b[0;32mfor\u001b[0m \u001b[0mi\u001b[0m \u001b[0;32min\u001b[0m \u001b[0mrange\u001b[0m\u001b[0;34m(\u001b[0m\u001b[0;36m10\u001b[0m\u001b[0;34m)\u001b[0m\u001b[0;34m:\u001b[0m\u001b[0;34m\u001b[0m\u001b[0;34m\u001b[0m\u001b[0m\n\u001b[0;32m---> 37\u001b[0;31m     \u001b[0mmain_task\u001b[0m\u001b[0;34m(\u001b[0m\u001b[0;34m)\u001b[0m\u001b[0;34m\u001b[0m\u001b[0;34m\u001b[0m\u001b[0m\n\u001b[0m\u001b[1;32m     38\u001b[0m     \u001b[0mprint\u001b[0m\u001b[0;34m(\u001b[0m\u001b[0;34m\"Iteration {0}: x = {1}\"\u001b[0m\u001b[0;34m.\u001b[0m\u001b[0mformat\u001b[0m\u001b[0;34m(\u001b[0m\u001b[0mi\u001b[0m\u001b[0;34m,\u001b[0m\u001b[0mx\u001b[0m\u001b[0;34m)\u001b[0m\u001b[0;34m)\u001b[0m\u001b[0;34m\u001b[0m\u001b[0;34m\u001b[0m\u001b[0m\n",
      "\u001b[0;32m<ipython-input-4-78e4dc0a205c>\u001b[0m in \u001b[0;36mmain_task\u001b[0;34m()\u001b[0m\n\u001b[1;32m     32\u001b[0m \u001b[0;34m\u001b[0m\u001b[0m\n\u001b[0;32m---> 33\u001b[0;31m     \u001b[0mt1\u001b[0m\u001b[0;34m.\u001b[0m\u001b[0mjoin\u001b[0m\u001b[0;34m(\u001b[0m\u001b[0;34m)\u001b[0m\u001b[0;34m\u001b[0m\u001b[0;34m\u001b[0m\u001b[0m\n\u001b[0m\u001b[1;32m     34\u001b[0m     \u001b[0mt2\u001b[0m\u001b[0;34m.\u001b[0m\u001b[0mjoin\u001b[0m\u001b[0;34m(\u001b[0m\u001b[0;34m)\u001b[0m\u001b[0;34m\u001b[0m\u001b[0;34m\u001b[0m\u001b[0m\n",
      "\u001b[0;32m/opt/homebrew/Cellar/python@3.9/3.9.12/Frameworks/Python.framework/Versions/3.9/lib/python3.9/threading.py\u001b[0m in \u001b[0;36mjoin\u001b[0;34m(self, timeout)\u001b[0m\n\u001b[1;32m   1052\u001b[0m         \u001b[0;32mif\u001b[0m \u001b[0mtimeout\u001b[0m \u001b[0;32mis\u001b[0m \u001b[0;32mNone\u001b[0m\u001b[0;34m:\u001b[0m\u001b[0;34m\u001b[0m\u001b[0;34m\u001b[0m\u001b[0m\n\u001b[0;32m-> 1053\u001b[0;31m             \u001b[0mself\u001b[0m\u001b[0;34m.\u001b[0m\u001b[0m_wait_for_tstate_lock\u001b[0m\u001b[0;34m(\u001b[0m\u001b[0;34m)\u001b[0m\u001b[0;34m\u001b[0m\u001b[0;34m\u001b[0m\u001b[0m\n\u001b[0m\u001b[1;32m   1054\u001b[0m         \u001b[0;32melse\u001b[0m\u001b[0;34m:\u001b[0m\u001b[0;34m\u001b[0m\u001b[0;34m\u001b[0m\u001b[0m\n",
      "\u001b[0;32m/opt/homebrew/Cellar/python@3.9/3.9.12/Frameworks/Python.framework/Versions/3.9/lib/python3.9/threading.py\u001b[0m in \u001b[0;36m_wait_for_tstate_lock\u001b[0;34m(self, block, timeout)\u001b[0m\n\u001b[1;32m   1072\u001b[0m         \u001b[0;32mtry\u001b[0m\u001b[0;34m:\u001b[0m\u001b[0;34m\u001b[0m\u001b[0;34m\u001b[0m\u001b[0m\n\u001b[0;32m-> 1073\u001b[0;31m             \u001b[0;32mif\u001b[0m \u001b[0mlock\u001b[0m\u001b[0;34m.\u001b[0m\u001b[0macquire\u001b[0m\u001b[0;34m(\u001b[0m\u001b[0mblock\u001b[0m\u001b[0;34m,\u001b[0m \u001b[0mtimeout\u001b[0m\u001b[0;34m)\u001b[0m\u001b[0;34m:\u001b[0m\u001b[0;34m\u001b[0m\u001b[0;34m\u001b[0m\u001b[0m\n\u001b[0m\u001b[1;32m   1074\u001b[0m                 \u001b[0mlock\u001b[0m\u001b[0;34m.\u001b[0m\u001b[0mrelease\u001b[0m\u001b[0;34m(\u001b[0m\u001b[0;34m)\u001b[0m\u001b[0;34m\u001b[0m\u001b[0;34m\u001b[0m\u001b[0m\n",
      "\u001b[0;31mKeyboardInterrupt\u001b[0m: ",
      "\nDuring handling of the above exception, another exception occurred:\n",
      "\u001b[0;31mAttributeError\u001b[0m                            Traceback (most recent call last)",
      "\u001b[0;32m/opt/homebrew/lib/python3.9/site-packages/IPython/core/interactiveshell.py\u001b[0m in \u001b[0;36mshowtraceback\u001b[0;34m(self, exc_tuple, filename, tb_offset, exception_only, running_compiled_code)\u001b[0m\n\u001b[1;32m   2060\u001b[0m                         \u001b[0;31m# in the engines. This should return a list of strings.\u001b[0m\u001b[0;34m\u001b[0m\u001b[0;34m\u001b[0m\u001b[0m\n\u001b[0;32m-> 2061\u001b[0;31m                         \u001b[0mstb\u001b[0m \u001b[0;34m=\u001b[0m \u001b[0mvalue\u001b[0m\u001b[0;34m.\u001b[0m\u001b[0m_render_traceback_\u001b[0m\u001b[0;34m(\u001b[0m\u001b[0;34m)\u001b[0m\u001b[0;34m\u001b[0m\u001b[0;34m\u001b[0m\u001b[0m\n\u001b[0m\u001b[1;32m   2062\u001b[0m                     \u001b[0;32mexcept\u001b[0m \u001b[0mException\u001b[0m\u001b[0;34m:\u001b[0m\u001b[0;34m\u001b[0m\u001b[0;34m\u001b[0m\u001b[0m\n",
      "\u001b[0;31mAttributeError\u001b[0m: 'KeyboardInterrupt' object has no attribute '_render_traceback_'",
      "\nDuring handling of the above exception, another exception occurred:\n",
      "\u001b[0;31mTypeError\u001b[0m                                 Traceback (most recent call last)",
      "    \u001b[0;31m[... skipping hidden 1 frame]\u001b[0m\n",
      "\u001b[0;32m/opt/homebrew/lib/python3.9/site-packages/IPython/core/interactiveshell.py\u001b[0m in \u001b[0;36mshowtraceback\u001b[0;34m(self, exc_tuple, filename, tb_offset, exception_only, running_compiled_code)\u001b[0m\n\u001b[1;32m   2061\u001b[0m                         \u001b[0mstb\u001b[0m \u001b[0;34m=\u001b[0m \u001b[0mvalue\u001b[0m\u001b[0;34m.\u001b[0m\u001b[0m_render_traceback_\u001b[0m\u001b[0;34m(\u001b[0m\u001b[0;34m)\u001b[0m\u001b[0;34m\u001b[0m\u001b[0;34m\u001b[0m\u001b[0m\n\u001b[1;32m   2062\u001b[0m                     \u001b[0;32mexcept\u001b[0m \u001b[0mException\u001b[0m\u001b[0;34m:\u001b[0m\u001b[0;34m\u001b[0m\u001b[0;34m\u001b[0m\u001b[0m\n\u001b[0;32m-> 2063\u001b[0;31m                         stb = self.InteractiveTB.structured_traceback(etype,\n\u001b[0m\u001b[1;32m   2064\u001b[0m                                             value, tb, tb_offset=tb_offset)\n\u001b[1;32m   2065\u001b[0m \u001b[0;34m\u001b[0m\u001b[0m\n",
      "\u001b[0;32m/opt/homebrew/lib/python3.9/site-packages/IPython/core/ultratb.py\u001b[0m in \u001b[0;36mstructured_traceback\u001b[0;34m(self, etype, value, tb, tb_offset, number_of_lines_of_context)\u001b[0m\n\u001b[1;32m   1365\u001b[0m         \u001b[0;32melse\u001b[0m\u001b[0;34m:\u001b[0m\u001b[0;34m\u001b[0m\u001b[0;34m\u001b[0m\u001b[0m\n\u001b[1;32m   1366\u001b[0m             \u001b[0mself\u001b[0m\u001b[0;34m.\u001b[0m\u001b[0mtb\u001b[0m \u001b[0;34m=\u001b[0m \u001b[0mtb\u001b[0m\u001b[0;34m\u001b[0m\u001b[0;34m\u001b[0m\u001b[0m\n\u001b[0;32m-> 1367\u001b[0;31m         return FormattedTB.structured_traceback(\n\u001b[0m\u001b[1;32m   1368\u001b[0m             self, etype, value, tb, tb_offset, number_of_lines_of_context)\n\u001b[1;32m   1369\u001b[0m \u001b[0;34m\u001b[0m\u001b[0m\n",
      "\u001b[0;32m/opt/homebrew/lib/python3.9/site-packages/IPython/core/ultratb.py\u001b[0m in \u001b[0;36mstructured_traceback\u001b[0;34m(self, etype, value, tb, tb_offset, number_of_lines_of_context)\u001b[0m\n\u001b[1;32m   1265\u001b[0m         \u001b[0;32mif\u001b[0m \u001b[0mmode\u001b[0m \u001b[0;32min\u001b[0m \u001b[0mself\u001b[0m\u001b[0;34m.\u001b[0m\u001b[0mverbose_modes\u001b[0m\u001b[0;34m:\u001b[0m\u001b[0;34m\u001b[0m\u001b[0;34m\u001b[0m\u001b[0m\n\u001b[1;32m   1266\u001b[0m             \u001b[0;31m# Verbose modes need a full traceback\u001b[0m\u001b[0;34m\u001b[0m\u001b[0;34m\u001b[0m\u001b[0m\n\u001b[0;32m-> 1267\u001b[0;31m             return VerboseTB.structured_traceback(\n\u001b[0m\u001b[1;32m   1268\u001b[0m                 \u001b[0mself\u001b[0m\u001b[0;34m,\u001b[0m \u001b[0metype\u001b[0m\u001b[0;34m,\u001b[0m \u001b[0mvalue\u001b[0m\u001b[0;34m,\u001b[0m \u001b[0mtb\u001b[0m\u001b[0;34m,\u001b[0m \u001b[0mtb_offset\u001b[0m\u001b[0;34m,\u001b[0m \u001b[0mnumber_of_lines_of_context\u001b[0m\u001b[0;34m\u001b[0m\u001b[0;34m\u001b[0m\u001b[0m\n\u001b[1;32m   1269\u001b[0m             )\n",
      "\u001b[0;32m/opt/homebrew/lib/python3.9/site-packages/IPython/core/ultratb.py\u001b[0m in \u001b[0;36mstructured_traceback\u001b[0;34m(self, etype, evalue, etb, tb_offset, number_of_lines_of_context)\u001b[0m\n\u001b[1;32m   1122\u001b[0m         \u001b[0;34m\"\"\"Return a nice text document describing the traceback.\"\"\"\u001b[0m\u001b[0;34m\u001b[0m\u001b[0;34m\u001b[0m\u001b[0m\n\u001b[1;32m   1123\u001b[0m \u001b[0;34m\u001b[0m\u001b[0m\n\u001b[0;32m-> 1124\u001b[0;31m         formatted_exception = self.format_exception_as_a_whole(etype, evalue, etb, number_of_lines_of_context,\n\u001b[0m\u001b[1;32m   1125\u001b[0m                                                                tb_offset)\n\u001b[1;32m   1126\u001b[0m \u001b[0;34m\u001b[0m\u001b[0m\n",
      "\u001b[0;32m/opt/homebrew/lib/python3.9/site-packages/IPython/core/ultratb.py\u001b[0m in \u001b[0;36mformat_exception_as_a_whole\u001b[0;34m(self, etype, evalue, etb, number_of_lines_of_context, tb_offset)\u001b[0m\n\u001b[1;32m   1080\u001b[0m \u001b[0;34m\u001b[0m\u001b[0m\n\u001b[1;32m   1081\u001b[0m \u001b[0;34m\u001b[0m\u001b[0m\n\u001b[0;32m-> 1082\u001b[0;31m         \u001b[0mlast_unique\u001b[0m\u001b[0;34m,\u001b[0m \u001b[0mrecursion_repeat\u001b[0m \u001b[0;34m=\u001b[0m \u001b[0mfind_recursion\u001b[0m\u001b[0;34m(\u001b[0m\u001b[0morig_etype\u001b[0m\u001b[0;34m,\u001b[0m \u001b[0mevalue\u001b[0m\u001b[0;34m,\u001b[0m \u001b[0mrecords\u001b[0m\u001b[0;34m)\u001b[0m\u001b[0;34m\u001b[0m\u001b[0;34m\u001b[0m\u001b[0m\n\u001b[0m\u001b[1;32m   1083\u001b[0m \u001b[0;34m\u001b[0m\u001b[0m\n\u001b[1;32m   1084\u001b[0m         \u001b[0mframes\u001b[0m \u001b[0;34m=\u001b[0m \u001b[0mself\u001b[0m\u001b[0;34m.\u001b[0m\u001b[0mformat_records\u001b[0m\u001b[0;34m(\u001b[0m\u001b[0mrecords\u001b[0m\u001b[0;34m,\u001b[0m \u001b[0mlast_unique\u001b[0m\u001b[0;34m,\u001b[0m \u001b[0mrecursion_repeat\u001b[0m\u001b[0;34m)\u001b[0m\u001b[0;34m\u001b[0m\u001b[0;34m\u001b[0m\u001b[0m\n",
      "\u001b[0;32m/opt/homebrew/lib/python3.9/site-packages/IPython/core/ultratb.py\u001b[0m in \u001b[0;36mfind_recursion\u001b[0;34m(etype, value, records)\u001b[0m\n\u001b[1;32m    380\u001b[0m     \u001b[0;31m# first frame (from in to out) that looks different.\u001b[0m\u001b[0;34m\u001b[0m\u001b[0;34m\u001b[0m\u001b[0m\n\u001b[1;32m    381\u001b[0m     \u001b[0;32mif\u001b[0m \u001b[0;32mnot\u001b[0m \u001b[0mis_recursion_error\u001b[0m\u001b[0;34m(\u001b[0m\u001b[0metype\u001b[0m\u001b[0;34m,\u001b[0m \u001b[0mvalue\u001b[0m\u001b[0;34m,\u001b[0m \u001b[0mrecords\u001b[0m\u001b[0;34m)\u001b[0m\u001b[0;34m:\u001b[0m\u001b[0;34m\u001b[0m\u001b[0;34m\u001b[0m\u001b[0m\n\u001b[0;32m--> 382\u001b[0;31m         \u001b[0;32mreturn\u001b[0m \u001b[0mlen\u001b[0m\u001b[0;34m(\u001b[0m\u001b[0mrecords\u001b[0m\u001b[0;34m)\u001b[0m\u001b[0;34m,\u001b[0m \u001b[0;36m0\u001b[0m\u001b[0;34m\u001b[0m\u001b[0;34m\u001b[0m\u001b[0m\n\u001b[0m\u001b[1;32m    383\u001b[0m \u001b[0;34m\u001b[0m\u001b[0m\n\u001b[1;32m    384\u001b[0m     \u001b[0;31m# Select filename, lineno, func_name to track frames with\u001b[0m\u001b[0;34m\u001b[0m\u001b[0;34m\u001b[0m\u001b[0m\n",
      "\u001b[0;31mTypeError\u001b[0m: object of type 'NoneType' has no len()"
     ]
    }
   ],
   "source": [
    "def thread1_task(lock, my_num):\n",
    "    global turn\n",
    "\n",
    "    for i in range(10000):\n",
    "        lock.lock(my_num)\n",
    "        print(\"thread 1, turn: \", i)\n",
    "        increment()\n",
    "        lock.unlock(my_num)\n",
    "        time.sleep(0.0001)\n",
    "def thread2_task(lock, my_num):\n",
    "    global turn\n",
    "   \n",
    "    for i in range(5):\n",
    "        lock.lock(my_num)\n",
    "        print(\"thread 2, turn: \", i)\n",
    "        increment()\n",
    "        lock.unlock(my_num)\n",
    "        time.sleep(0.0001)\n",
    "def main_task():\n",
    "    global x\n",
    " \n",
    "    x = 0\n",
    "   \n",
    "    # create a lock\n",
    "    lock = solution_one.SolutionOne()\n",
    "   \n",
    "    t1 = threading.Thread(target=thread1_task, args=(lock, 1, ))\n",
    "    t2 = threading.Thread(target=thread2_task, args=(lock, 2, ))\n",
    " \n",
    "    t1.start()\n",
    "    t2.start()\n",
    " \n",
    "    t1.join()\n",
    "    t2.join()\n",
    " \n",
    "for i in range(10):\n",
    "    main_task()\n",
    "    print(\"Iteration {0}: x = {1}\".format(i,x))"
   ]
  },
  {
   "cell_type": "markdown",
   "id": "ed9151e2",
   "metadata": {},
   "source": [
    "As we can see above, thread two only runs for five turns while thread 1 has to run for 100,000. We see that they take turns and once it's thread 2's fifth turns, thread 2 completes. Then thread 1 goes for a turn and tells thread 2 to execute, but thread 2 is done, so thread 1 waits forever for thread 2 to go. This violates progress since only thread 1 should be allowed to decide who goes next and that thread should still be waiting for access to the critical section. \n",
    "\n",
    "### Solution 2:\n",
    "\n",
    "Let's now consider solution two, where a thread must first restrict the other thread from entering the critical section, then enter the critical section, and once it's done, allow for the other thread to enter the critical section. This seems like a great idea since it fixes the problem with solution one where if a thread finishes, then it does not allow the other thread to finish as well. Let's test for mutual exclusion: Since one thread always restricts the other from entering, mutual exclusion follows. "
   ]
  },
  {
   "cell_type": "code",
   "execution_count": 5,
   "id": "b068e800",
   "metadata": {
    "scrolled": true
   },
   "outputs": [
    {
     "name": "stdout",
     "output_type": "stream",
     "text": [
      "Iteration 0: x = 20000\n",
      "Iteration 1: x = 20000\n",
      "Iteration 2: x = 20000\n",
      "Iteration 3: x = 20000\n",
      "Iteration 4: x = 20000\n",
      "Iteration 5: x = 20000\n",
      "Iteration 6: x = 20000\n",
      "Iteration 7: x = 20000\n",
      "Iteration 8: x = 20000\n",
      "Iteration 9: x = 20000\n"
     ]
    }
   ],
   "source": [
    "def thread1_task(lock, my_num):\n",
    "    global turn\n",
    "\n",
    "    for _ in range(10000):\n",
    "#         time.sleep(0.0001)\n",
    "        lock.lock(my_num)\n",
    "        increment()\n",
    "        lock.unlock(my_num)\n",
    "\n",
    " \n",
    "def thread2_task(lock, my_num):\n",
    "    global turn\n",
    "   \n",
    "    for _ in range(10000):\n",
    "#         time.sleep(0.0001)\n",
    "        lock.lock(my_num)\n",
    "        increment()\n",
    "        lock.unlock(my_num)\n",
    "def main_task():\n",
    "    global x\n",
    " \n",
    "    x = 0\n",
    "   \n",
    "    # create a lock\n",
    "    lock = solution_two.SolutionTwo(flags = [False, False])\n",
    "   \n",
    "    t1 = threading.Thread(target=thread1_task, args=(lock, 1, ))\n",
    "    t2 = threading.Thread(target=thread2_task, args=(lock, 2, ))\n",
    " \n",
    "    t1.start()\n",
    "    t2.start()\n",
    " \n",
    "    t1.join()\n",
    "    t2.join()\n",
    " \n",
    "for i in range(10):\n",
    "    main_task()\n",
    "    print(\"Iteration {0}: x = {1}\".format(i,x))"
   ]
  },
  {
   "cell_type": "markdown",
   "id": "f42cec1c",
   "metadata": {},
   "source": [
    "How about progress? Is that problem solved? Yes, since only threads that are waiting for the critical section decide on who goes next and only those that are waiting can go. To prove this, we can run the simulation from Solution One, where progress failed due to one of the threads exiting early. Let's set a simulation for 5 turns for each thread:"
   ]
  },
  {
   "cell_type": "code",
   "execution_count": 6,
   "id": "1f59f2c6",
   "metadata": {
    "scrolled": true
   },
   "outputs": [
    {
     "name": "stdout",
     "output_type": "stream",
     "text": [
      "Iteration 0: x = 11000\n",
      "Iteration 1: x = 11000\n",
      "Iteration 2: x = 11000\n",
      "Iteration 3: x = 11000\n",
      "Iteration 4: x = 11000\n",
      "Iteration 5: x = 11000\n",
      "Iteration 6: x = 11000\n",
      "Iteration 7: x = 11000\n",
      "Iteration 8: x = 11000\n",
      "Iteration 9: x = 11000\n"
     ]
    }
   ],
   "source": [
    "def thread1_task(lock, my_num):\n",
    "    global turn\n",
    "\n",
    "    for _ in range(1000):\n",
    "        lock.lock(my_num)\n",
    "        increment()\n",
    "        lock.unlock(my_num)\n",
    "\n",
    " \n",
    "def thread2_task(lock, my_num):\n",
    "    global turn\n",
    "   \n",
    "    for _ in range(10000):\n",
    "        lock.lock(my_num)\n",
    "        increment()\n",
    "        lock.unlock(my_num)\n",
    "def main_task():\n",
    "    global x\n",
    " \n",
    "    x = 0\n",
    "   \n",
    "    # create a lock\n",
    "    lock = solution_two.SolutionTwo(flags = [False, False])\n",
    "   \n",
    "    t1 = threading.Thread(target=thread1_task, args=(lock, 1, ))\n",
    "    t2 = threading.Thread(target=thread2_task, args=(lock, 2, ))\n",
    " \n",
    "    t1.start()\n",
    "    t2.start()\n",
    " \n",
    "    t1.join()\n",
    "    t2.join()\n",
    " \n",
    "for i in range(10):\n",
    "    main_task()\n",
    "    print(\"Iteration {0}: x = {1}\".format(i,x))"
   ]
  },
  {
   "cell_type": "markdown",
   "id": "f4a7a990",
   "metadata": {},
   "source": [
    "We see that solution two solves the problem of a thread finishing early and then leaving the other thread to starve forever. "
   ]
  },
  {
   "cell_type": "markdown",
   "id": "e558b78a",
   "metadata": {},
   "source": [
    "Finally, let's test bounded wait time. We want to argue that Solution Two fails bounded wait time for the following reason: Both threads can wait for the other thread to turn the flag for False so that one of them could go into the critical section. To do this, we can force a context switch when one of the processes turns their flag to true but before entering the critical section so that the other thread does the same. Now that both threads have their flags set to true and none of them have entered the critical section, none can turn the other flag to false, leading to deadlock. "
   ]
  },
  {
   "cell_type": "code",
   "execution_count": 5,
   "id": "9f3106db",
   "metadata": {},
   "outputs": [
    {
     "name": "stdout",
     "output_type": "stream",
     "text": [
      "thread 1 turn  thread 2 turn 0 \n",
      "0\n"
     ]
    },
    {
     "ename": "KeyboardInterrupt",
     "evalue": "",
     "output_type": "error",
     "traceback": [
      "\u001b[0;31m---------------------------------------------------------------------------\u001b[0m",
      "\u001b[0;31mKeyboardInterrupt\u001b[0m                         Traceback (most recent call last)",
      "\u001b[0;32m<ipython-input-5-51599c3415bc>\u001b[0m in \u001b[0;36m<module>\u001b[0;34m\u001b[0m\n\u001b[1;32m     36\u001b[0m \u001b[0;34m\u001b[0m\u001b[0m\n\u001b[1;32m     37\u001b[0m \u001b[0;32mfor\u001b[0m \u001b[0mi\u001b[0m \u001b[0;32min\u001b[0m \u001b[0mrange\u001b[0m\u001b[0;34m(\u001b[0m\u001b[0;36m1\u001b[0m\u001b[0;34m)\u001b[0m\u001b[0;34m:\u001b[0m\u001b[0;34m\u001b[0m\u001b[0;34m\u001b[0m\u001b[0m\n\u001b[0;32m---> 38\u001b[0;31m     \u001b[0mmain_task\u001b[0m\u001b[0;34m(\u001b[0m\u001b[0;34m)\u001b[0m\u001b[0;34m\u001b[0m\u001b[0;34m\u001b[0m\u001b[0m\n\u001b[0m\u001b[1;32m     39\u001b[0m     \u001b[0mprint\u001b[0m\u001b[0;34m(\u001b[0m\u001b[0;34m\"Iteration {0}: x = {1}\"\u001b[0m\u001b[0;34m.\u001b[0m\u001b[0mformat\u001b[0m\u001b[0;34m(\u001b[0m\u001b[0mi\u001b[0m\u001b[0;34m,\u001b[0m\u001b[0mx\u001b[0m\u001b[0;34m)\u001b[0m\u001b[0;34m)\u001b[0m\u001b[0;34m\u001b[0m\u001b[0;34m\u001b[0m\u001b[0m\n",
      "\u001b[0;32m<ipython-input-5-51599c3415bc>\u001b[0m in \u001b[0;36mmain_task\u001b[0;34m()\u001b[0m\n\u001b[1;32m     32\u001b[0m     \u001b[0mt2\u001b[0m\u001b[0;34m.\u001b[0m\u001b[0mstart\u001b[0m\u001b[0;34m(\u001b[0m\u001b[0;34m)\u001b[0m\u001b[0;34m\u001b[0m\u001b[0;34m\u001b[0m\u001b[0m\n\u001b[1;32m     33\u001b[0m \u001b[0;34m\u001b[0m\u001b[0m\n\u001b[0;32m---> 34\u001b[0;31m     \u001b[0mt1\u001b[0m\u001b[0;34m.\u001b[0m\u001b[0mjoin\u001b[0m\u001b[0;34m(\u001b[0m\u001b[0;34m)\u001b[0m\u001b[0;34m\u001b[0m\u001b[0;34m\u001b[0m\u001b[0m\n\u001b[0m\u001b[1;32m     35\u001b[0m     \u001b[0mt2\u001b[0m\u001b[0;34m.\u001b[0m\u001b[0mjoin\u001b[0m\u001b[0;34m(\u001b[0m\u001b[0;34m)\u001b[0m\u001b[0;34m\u001b[0m\u001b[0;34m\u001b[0m\u001b[0m\n\u001b[1;32m     36\u001b[0m \u001b[0;34m\u001b[0m\u001b[0m\n",
      "\u001b[0;32m/opt/homebrew/Cellar/python@3.9/3.9.12/Frameworks/Python.framework/Versions/3.9/lib/python3.9/threading.py\u001b[0m in \u001b[0;36mjoin\u001b[0;34m(self, timeout)\u001b[0m\n\u001b[1;32m   1051\u001b[0m \u001b[0;34m\u001b[0m\u001b[0m\n\u001b[1;32m   1052\u001b[0m         \u001b[0;32mif\u001b[0m \u001b[0mtimeout\u001b[0m \u001b[0;32mis\u001b[0m \u001b[0;32mNone\u001b[0m\u001b[0;34m:\u001b[0m\u001b[0;34m\u001b[0m\u001b[0;34m\u001b[0m\u001b[0m\n\u001b[0;32m-> 1053\u001b[0;31m             \u001b[0mself\u001b[0m\u001b[0;34m.\u001b[0m\u001b[0m_wait_for_tstate_lock\u001b[0m\u001b[0;34m(\u001b[0m\u001b[0;34m)\u001b[0m\u001b[0;34m\u001b[0m\u001b[0;34m\u001b[0m\u001b[0m\n\u001b[0m\u001b[1;32m   1054\u001b[0m         \u001b[0;32melse\u001b[0m\u001b[0;34m:\u001b[0m\u001b[0;34m\u001b[0m\u001b[0;34m\u001b[0m\u001b[0m\n\u001b[1;32m   1055\u001b[0m             \u001b[0;31m# the behavior of a negative timeout isn't documented, but\u001b[0m\u001b[0;34m\u001b[0m\u001b[0;34m\u001b[0m\u001b[0m\n",
      "\u001b[0;32m/opt/homebrew/Cellar/python@3.9/3.9.12/Frameworks/Python.framework/Versions/3.9/lib/python3.9/threading.py\u001b[0m in \u001b[0;36m_wait_for_tstate_lock\u001b[0;34m(self, block, timeout)\u001b[0m\n\u001b[1;32m   1071\u001b[0m \u001b[0;34m\u001b[0m\u001b[0m\n\u001b[1;32m   1072\u001b[0m         \u001b[0;32mtry\u001b[0m\u001b[0;34m:\u001b[0m\u001b[0;34m\u001b[0m\u001b[0;34m\u001b[0m\u001b[0m\n\u001b[0;32m-> 1073\u001b[0;31m             \u001b[0;32mif\u001b[0m \u001b[0mlock\u001b[0m\u001b[0;34m.\u001b[0m\u001b[0macquire\u001b[0m\u001b[0;34m(\u001b[0m\u001b[0mblock\u001b[0m\u001b[0;34m,\u001b[0m \u001b[0mtimeout\u001b[0m\u001b[0;34m)\u001b[0m\u001b[0;34m:\u001b[0m\u001b[0;34m\u001b[0m\u001b[0;34m\u001b[0m\u001b[0m\n\u001b[0m\u001b[1;32m   1074\u001b[0m                 \u001b[0mlock\u001b[0m\u001b[0;34m.\u001b[0m\u001b[0mrelease\u001b[0m\u001b[0;34m(\u001b[0m\u001b[0;34m)\u001b[0m\u001b[0;34m\u001b[0m\u001b[0;34m\u001b[0m\u001b[0m\n\u001b[1;32m   1075\u001b[0m                 \u001b[0mself\u001b[0m\u001b[0;34m.\u001b[0m\u001b[0m_stop\u001b[0m\u001b[0;34m(\u001b[0m\u001b[0;34m)\u001b[0m\u001b[0;34m\u001b[0m\u001b[0;34m\u001b[0m\u001b[0m\n",
      "\u001b[0;31mKeyboardInterrupt\u001b[0m: "
     ]
    }
   ],
   "source": [
    "import time\n",
    "def thread1_task(lock, my_num):\n",
    "    global turn\n",
    "\n",
    "    for i in range(20):\n",
    "        print(\"thread 1 turn \", i)\n",
    "        lock.lock(my_num)\n",
    "        increment()\n",
    "        lock.unlock(my_num)\n",
    "\n",
    " \n",
    "def thread2_task(lock, my_num):\n",
    "    global turn\n",
    "   \n",
    "    for i in range(20):\n",
    "        print(\"thread 2 turn \", i)\n",
    "        lock.lock(my_num)\n",
    "        increment()\n",
    "        lock.unlock(my_num)\n",
    "def main_task():\n",
    "    global x\n",
    " \n",
    "    x = 0\n",
    "   \n",
    "    # create a lock\n",
    "    lock = solution_two.SolutionTwo(flags = [False, False])\n",
    "   \n",
    "    t1 = threading.Thread(target=thread1_task, args=(lock, 1, ))\n",
    "    t2 = threading.Thread(target=thread2_task, args=(lock, 2, ))\n",
    " \n",
    "    t1.start()\n",
    "    t2.start()\n",
    " \n",
    "    t1.join()\n",
    "    t2.join()\n",
    " \n",
    "for i in range(1):\n",
    "    main_task()\n",
    "    print(\"Iteration {0}: x = {1}\".format(i,x))"
   ]
  },
  {
   "cell_type": "markdown",
   "id": "56291d32",
   "metadata": {},
   "source": [
    "In the solution two file, I added time.sleep(0.0001) right after the flag is first turned to True. This causes a context switch and thread two will do the same and context switch right after turning the flag to True. This means that both flags are true and thus, both processes will be in the forever loop forever, therefore starving. As can be seen above, both processes begin at turn 0 and then never go on to turn 1. "
   ]
  },
  {
   "cell_type": "markdown",
   "id": "2a0e622c",
   "metadata": {},
   "source": [
    "### Peterson's Solution:\n",
    "Next, we try Peterson's Solution, which is a mix of both Solution 1 and Solution 2. Both thread 1 and thread 2 take turns, but they also restrict the other thread from entering the critical section right before going into it and allow the thread to enter soon after finishing. First, we test for mutual exclusivity. We see that after running the simulation for 10,000 iterations on each thread, we do not run into any problems. This follows from Peterson's solution always locking a thread out of the critical section."
   ]
  },
  {
   "cell_type": "code",
   "execution_count": 7,
   "id": "ce4acbcf",
   "metadata": {},
   "outputs": [
    {
     "name": "stdout",
     "output_type": "stream",
     "text": [
      "Iteration 0: x = 20000\n",
      "Iteration 1: x = 20000\n",
      "Iteration 2: x = 20000\n",
      "Iteration 3: x = 20000\n",
      "Iteration 4: x = 20000\n",
      "Iteration 5: x = 20000\n",
      "Iteration 6: x = 20000\n",
      "Iteration 7: x = 20000\n",
      "Iteration 8: x = 20000\n",
      "Iteration 9: x = 20000\n"
     ]
    }
   ],
   "source": [
    "def thread1_task(lock, my_num):\n",
    "    global turn\n",
    "\n",
    "    for _ in range(10000):\n",
    "        lock.lock(my_num)\n",
    "        increment()\n",
    "        lock.unlock(my_num)\n",
    "\n",
    " \n",
    "def thread2_task(lock, my_num):\n",
    "    global turn\n",
    "   \n",
    "    for _ in range(10000):\n",
    "        lock.lock(my_num)\n",
    "        increment()\n",
    "        lock.unlock(my_num)\n",
    "def main_task():\n",
    "    global x\n",
    " \n",
    "    x = 0\n",
    "   \n",
    "    # create a lock\n",
    "    lock = peterson_solution.PetersonSolution()\n",
    "   \n",
    "    t1 = threading.Thread(target=thread1_task, args=(lock, 1, ))\n",
    "    t2 = threading.Thread(target=thread2_task, args=(lock, 2, ))\n",
    " \n",
    "    t1.start()\n",
    "    t2.start()\n",
    " \n",
    "    t1.join()\n",
    "    t2.join()\n",
    " \n",
    "for i in range(10):\n",
    "    main_task()\n",
    "    print(\"Iteration {0}: x = {1}\".format(i,x))"
   ]
  },
  {
   "cell_type": "markdown",
   "id": "5f612826",
   "metadata": {},
   "source": [
    "What about progress? We don't have a problem with progress either since if one of the threads exits early, the other thread can still continue running. We can test this below where we have thread one running for 1000 iterations but thread 2 for 10000. This results in the sum being 11000 as expected for every iteration and the program not crashing. "
   ]
  },
  {
   "cell_type": "code",
   "execution_count": 8,
   "id": "094154bf",
   "metadata": {},
   "outputs": [
    {
     "name": "stdout",
     "output_type": "stream",
     "text": [
      "Iteration 0: x = 11000\n",
      "Iteration 1: x = 11000\n",
      "Iteration 2: x = 11000\n",
      "Iteration 3: x = 11000\n",
      "Iteration 4: x = 11000\n",
      "Iteration 5: x = 11000\n",
      "Iteration 6: x = 11000\n",
      "Iteration 7: x = 11000\n",
      "Iteration 8: x = 11000\n",
      "Iteration 9: x = 11000\n"
     ]
    }
   ],
   "source": [
    "def thread1_task(lock, my_num):\n",
    "    global turn\n",
    "\n",
    "    for _ in range(1000):\n",
    "        lock.lock(my_num)\n",
    "        increment()\n",
    "        lock.unlock(my_num)\n",
    "\n",
    " \n",
    "def thread2_task(lock, my_num):\n",
    "    global turn\n",
    "   \n",
    "    for _ in range(10000):\n",
    "        lock.lock(my_num)\n",
    "        increment()\n",
    "        lock.unlock(my_num)\n",
    "def main_task():\n",
    "    global x\n",
    " \n",
    "    x = 0\n",
    "   \n",
    "    # create a lock\n",
    "    lock = peterson_solution.PetersonSolution()\n",
    "   \n",
    "    t1 = threading.Thread(target=thread1_task, args=(lock, 1, ))\n",
    "    t2 = threading.Thread(target=thread2_task, args=(lock, 2, ))\n",
    " \n",
    "    t1.start()\n",
    "    t2.start()\n",
    " \n",
    "    t1.join()\n",
    "    t2.join()\n",
    " \n",
    "for i in range(10):\n",
    "    main_task()\n",
    "    print(\"Iteration {0}: x = {1}\".format(i,x))"
   ]
  },
  {
   "cell_type": "markdown",
   "id": "1747a705",
   "metadata": {},
   "source": [
    "Finally, bounded wait time. The problem of bounded wait time is also fixed as opposed to solution two. If we switch threads at any point in the algorithm, the algorithm will still keep running. In our simulation we only run one simulation for 20 iterations on each thread. However, we make sure to make contexr switches using time.sleep(0.0001) at moments such as right after changing flags as to try and create a deadlock condition. However, as we learned from class, a deadlock with two threads is impossible in Peterson's Solution. "
   ]
  },
  {
   "cell_type": "code",
   "execution_count": 3,
   "id": "1b9a51a6",
   "metadata": {},
   "outputs": [
    {
     "name": "stdout",
     "output_type": "stream",
     "text": [
      "thread 1 turn  0\n",
      "thread 2 turn thread 1 turn  1\n",
      " thread 1 turn  2\n",
      "0thread 1 turn \n",
      " 3\n",
      "thread 2 turn thread 1 turn   1\n",
      "4\n",
      "thread 2 turn  2\n",
      "thread 2 turn  3\n",
      "thread 2 turn  4\n",
      "thread 2 turn  5\n",
      "thread 2 turn  6\n",
      "thread 2 turn thread 1 turn  7\n",
      " 5\n",
      "thread 2 turn  8\n",
      "thread 2 turn thread 1 turn  6\n",
      " 9\n",
      "thread 2 turn  thread 1 turn  7\n",
      "10\n",
      "thread 2 turn  11\n",
      "thread 2 turn  12\n",
      "thread 2 turn  13\n",
      "thread 2 turn  14thread 1 turn \n",
      " 8\n",
      "thread 2 turn  15\n",
      "thread 2 turn  16\n",
      "thread 2 turn  17\n",
      "thread 2 turn thread 1 turn  9\n",
      " 18\n",
      "thread 2 turn thread 1 turn  19\n",
      " 10\n",
      "thread 1 turn  11\n",
      "thread 1 turn  12\n",
      "thread 1 turn  13\n",
      "thread 1 turn  14\n",
      "thread 1 turn  15\n",
      "thread 1 turn  16\n",
      "thread 1 turn  17\n",
      "thread 1 turn  18\n",
      "thread 1 turn  19\n",
      "Iteration 0: x = 40\n"
     ]
    }
   ],
   "source": [
    "import time\n",
    "def thread1_task(lock, my_num):\n",
    "    global turn\n",
    "\n",
    "    for i in range(20):\n",
    "        print(\"thread 1 turn \", i)\n",
    "        lock.lock(my_num)\n",
    "        increment()\n",
    "        lock.unlock(my_num)\n",
    "\n",
    " \n",
    "def thread2_task(lock, my_num):\n",
    "    global turn\n",
    "   \n",
    "    for i in range(20):\n",
    "        print(\"thread 2 turn \", i)\n",
    "        lock.lock(my_num)\n",
    "        increment()\n",
    "        lock.unlock(my_num)\n",
    "def main_task():\n",
    "    global x\n",
    " \n",
    "    x = 0\n",
    "   \n",
    "    # create a lock\n",
    "    lock = peterson_solution.PetersonSolution()\n",
    "   \n",
    "    t1 = threading.Thread(target=thread1_task, args=(lock, 1, ))\n",
    "    t2 = threading.Thread(target=thread2_task, args=(lock, 2, ))\n",
    " \n",
    "    t1.start()\n",
    "    t2.start()\n",
    " \n",
    "    t1.join()\n",
    "    t2.join()\n",
    " \n",
    "for i in range(1):\n",
    "    main_task()\n",
    "    print(\"Iteration {0}: x = {1}\".format(i,x))"
   ]
  },
  {
   "cell_type": "markdown",
   "id": "0ecf3e67",
   "metadata": {},
   "source": [
    "### Bakery Solution:\n",
    "\n",
    "The bakery solution is special in that not only does it have mutual exclusion, progress, and bounded wait time, but it also can run on many threads. In the following simulations, we will test mutual exclusion using multiple threads so that the nthreads test is also being perfomed. Below, we once again test mutual exclusion by running four threads for 1000 iterations each. This leads to no errors since a race condition is impossible with the bakery solution. This is due to the use of flags and tickets that allow processes to take turns and not starve all while preserving progress. "
   ]
  },
  {
   "cell_type": "code",
   "execution_count": 5,
   "id": "d0772e58",
   "metadata": {
    "scrolled": true
   },
   "outputs": [
    {
     "name": "stdout",
     "output_type": "stream",
     "text": [
      "Iteration 0: x = 40000\n",
      "Iteration 1: x = 40000\n",
      "Iteration 2: x = 40000\n",
      "Iteration 3: x = 40000\n",
      "Iteration 4: x = 40000\n",
      "Iteration 5: x = 40000\n",
      "Iteration 6: x = 40000\n",
      "Iteration 7: x = 40000\n",
      "Iteration 8: x = 40000\n",
      "Iteration 9: x = 40000\n"
     ]
    }
   ],
   "source": [
    "import time\n",
    "\n",
    "x = 0\n",
    " \n",
    "def increment():\n",
    "    global x\n",
    "    x += 1\n",
    "    \n",
    "def thread_task1(lock, my_num):\n",
    "    global turn\n",
    "\n",
    "    for _ in range(1000):\n",
    "#         time.sleep(0.0001)\n",
    "        lock.lock(my_num)\n",
    "        increment()\n",
    "        lock.unlock(my_num)\n",
    "        \n",
    "\n",
    "def main_task():\n",
    "    global x\n",
    " \n",
    "    x = 0\n",
    "   \n",
    "    # create a lock\n",
    "    choosings = []\n",
    "    tickets = []\n",
    "    for i in range(4):\n",
    "        tickets.append(i)\n",
    "        choosings.append(False)\n",
    "        \n",
    "    lock = bakery_solution.BakerySolution(choosings, tickets)\n",
    "   \n",
    "    threads =[]\n",
    "    for i in range(4):\n",
    "        t = threading.Thread(target=thread_task1, args=(lock, i, ))\n",
    "        threads.append(t)\n",
    "     \n",
    "    for thread in threads:\n",
    "        thread.start()\n",
    "    for thread in threads:\n",
    "        thread.join()\n",
    "        \n",
    " \n",
    "for i in range(10):\n",
    "    main_task()\n",
    "    print(\"Iteration {0}: x = {1}\".format(i,x))"
   ]
  },
  {
   "cell_type": "markdown",
   "id": "12978625",
   "metadata": {},
   "source": [
    "Up next, we run 5 threads to test progress in the same fashion as in the previous solutions. We give each thread their number plus one times 1000 iterations to execute, meaning all of them finish at different times. This means we should expect 1 + 2 + 3 + 4 + 5 = 15 times 1000 iterations. "
   ]
  },
  {
   "cell_type": "code",
   "execution_count": 4,
   "id": "8a45395f",
   "metadata": {
    "scrolled": true
   },
   "outputs": [
    {
     "name": "stdout",
     "output_type": "stream",
     "text": [
      "Iteration 0: x = 15000\n",
      "Iteration 1: x = 15000\n",
      "Iteration 2: x = 15000\n",
      "Iteration 3: x = 15000\n",
      "Iteration 4: x = 15000\n",
      "Iteration 5: x = 15000\n",
      "Iteration 6: x = 15000\n",
      "Iteration 7: x = 15000\n",
      "Iteration 8: x = 15000\n",
      "Iteration 9: x = 15000\n"
     ]
    }
   ],
   "source": [
    "import time\n",
    "\n",
    "x = 0\n",
    " \n",
    "def increment():\n",
    "    global x\n",
    "    x += 1\n",
    "    \n",
    "def thread_task1(lock, my_num):\n",
    "    global turn\n",
    "\n",
    "    for _ in range((my_num+1)*1000):\n",
    "        lock.lock(my_num)\n",
    "        increment()\n",
    "        lock.unlock(my_num)\n",
    "        \n",
    "\n",
    "def main_task():\n",
    "    global x\n",
    " \n",
    "    x = 0\n",
    "   \n",
    "    # create a lock\n",
    "    choosings = []\n",
    "    tickets = []\n",
    "    for i in range(5):\n",
    "        tickets.append(i)\n",
    "        choosings.append(False)\n",
    "        \n",
    "    lock = bakery_solution.BakerySolution(choosings, tickets)\n",
    "   \n",
    "    threads =[]\n",
    "    for i in range(5):\n",
    "        t = threading.Thread(target=thread_task1, args=(lock, i, ))\n",
    "        threads.append(t)\n",
    "     \n",
    "    for thread in threads:\n",
    "        thread.start()\n",
    "    for thread in threads:\n",
    "        thread.join()\n",
    "        \n",
    " \n",
    "for i in range(10):\n",
    "    main_task()\n",
    "    print(\"Iteration {0}: x = {1}\".format(i,x))"
   ]
  },
  {
   "cell_type": "markdown",
   "id": "7edeff50",
   "metadata": {},
   "source": [
    "Finally, to test starvation or bounded wait time, we print the thread number currently executing and conduct context switches right before the for loop in the bakery solution. Below, we see that each one of the threads executes and that none are left starving. The total sum is exactly as we expect it. "
   ]
  },
  {
   "cell_type": "code",
   "execution_count": 5,
   "id": "51ec3243",
   "metadata": {},
   "outputs": [
    {
     "name": "stdout",
     "output_type": "stream",
     "text": [
      "thread  0  turn  0\n",
      "thread  1  turn  0\n",
      "thread  thread 2  3  turn  0\n",
      " turn  thread 0\n",
      "thread   4 5  turn  turn   00\n",
      "\n",
      "thread thread thread  1thread  thread 3  turn  1\n",
      "   2  turn  1\n",
      " 5  turn  1\n",
      "0  turn  1\n",
      " turn  1\n",
      "thread thread  3  turn  2\n",
      "thread   2thread   turn 4thread    02   turn  2\n",
      "\n",
      " turn  1\n",
      "thread  1  turn  2\n",
      "5thread   thread  turn  thread 3thread 0  turn  3\n",
      "thread  4  turn  2\n",
      "  1  turn 2  turn  3\n",
      "  turn  3\n",
      "thread  0  turn  thread thread  4\n",
      " 2  turn  4\n",
      " thread 2\n",
      " 3  turn  4\n",
      "3 4  turn  3\n",
      "\n",
      "thread  thread  4  turn  4\n",
      "5thread   turn  3\n",
      " 1  turn  4\n",
      "thread  5  turn  4\n",
      "Iteration 0: x = 30\n"
     ]
    }
   ],
   "source": [
    "import time\n",
    "def thread1_task(lock, my_num):\n",
    "    global turn\n",
    "\n",
    "    for i in range(5):\n",
    "        print(\"thread \", my_num, \" turn \", i)\n",
    "        lock.lock(my_num)\n",
    "        increment()\n",
    "        lock.unlock(my_num)\n",
    "def main_task():\n",
    "    global x\n",
    " \n",
    "    x = 0\n",
    "   \n",
    "    # create a lock\n",
    "    choosings = []\n",
    "    tickets = []\n",
    "    for i in range(6):\n",
    "        tickets.append(i)\n",
    "        choosings.append(False)\n",
    "        \n",
    "    lock = bakery_solution.BakerySolution(choosings, tickets)\n",
    "   \n",
    "    threads =[]\n",
    "    for i in range(6):\n",
    "        t = threading.Thread(target=thread1_task, args=(lock, i, ))\n",
    "        threads.append(t)\n",
    "     \n",
    "    for thread in threads:\n",
    "        thread.start()\n",
    "    for thread in threads:\n",
    "        thread.join()\n",
    "        \n",
    " \n",
    "for i in range(1):\n",
    "    main_task()\n",
    "    print(\"Iteration {0}: x = {1}\".format(i,x))"
   ]
  },
  {
   "cell_type": "markdown",
   "id": "e4a428a5",
   "metadata": {},
   "source": [
    "## Takeaway\n",
    "\n",
    "As we saw, solution one seems like a great idea in that it attempts to establish order in the way that threads execute. However, it fails progress if a thread finishes early. Solution two fixes that, but fails if there is a context switch at the wrong time as we saw earlier in our simulation. This leads to a deadlock and therefore starvation among the threads. Peterson's solution further improves on these solutions and fixes bounded waiting time. However, as we saw in class, Peterson's solution fails for more than two threads. Bakery Solution goes ahead and then fixes all components for n-threads, thereby making Bakery's Solution the superior solution over all other solutions. "
   ]
  },
  {
   "cell_type": "markdown",
   "id": "114176d3",
   "metadata": {},
   "source": [
    "## Extensions\n",
    "\n",
    "### Extension 1: Implementing n-threads for Peterson's Solution\n",
    "\n",
    "For my extension, I implemented Peterson's Solution for n-threads. I took the algorithm from Peterson's Algorithm wikipedia page found in the acknowledgements. Once I implemented it, I tested for mutual exclusivity, progress, and bounded wait time across a different number of threads."
   ]
  },
  {
   "cell_type": "code",
   "execution_count": 7,
   "id": "467abec9",
   "metadata": {},
   "outputs": [
    {
     "name": "stdout",
     "output_type": "stream",
     "text": [
      "Iteration 0: x = 60000\n",
      "Iteration 1: x = 60000\n",
      "Iteration 2: x = 60000\n",
      "Iteration 3: x = 60000\n",
      "Iteration 4: x = 60000\n",
      "Iteration 5: x = 60000\n",
      "Iteration 6: x = 60000\n",
      "Iteration 7: x = 60000\n",
      "Iteration 8: x = 60000\n",
      "Iteration 9: x = 60000\n"
     ]
    }
   ],
   "source": [
    "import peterson_nthreads\n",
    "import time\n",
    "\n",
    "x = 0\n",
    " \n",
    "def increment():\n",
    "    global x\n",
    "    x += 1\n",
    "    \n",
    "def thread_task1(lock, my_num):\n",
    "    global turn\n",
    "\n",
    "    for _ in range(10000):\n",
    "        time.sleep(0.0001)\n",
    "        lock.lock(my_num)\n",
    "        increment()\n",
    "        lock.unlock(my_num)\n",
    "        \n",
    "\n",
    "def main_task():\n",
    "    global x\n",
    " \n",
    "    x = 0\n",
    "   \n",
    "    # create a lock\n",
    "    flags = []\n",
    "    last_to_enter = []\n",
    "    for i in range(6):\n",
    "        flags.append(i)\n",
    "        last_to_enter.append(False)\n",
    "        \n",
    "    lock = peterson_nthreads.PetersonNThreads(flags, last_to_enter)\n",
    "   \n",
    "    threads =[]\n",
    "    for i in range(6):\n",
    "        t = threading.Thread(target=thread_task1, args=(lock, i, ))\n",
    "        threads.append(t)\n",
    "     \n",
    "    for thread in threads:\n",
    "        thread.start()\n",
    "    for thread in threads:\n",
    "        thread.join()\n",
    "        \n",
    " \n",
    "for i in range(10):\n",
    "    main_task()\n",
    "    print(\"Iteration {0}: x = {1}\".format(i,x))"
   ]
  },
  {
   "cell_type": "markdown",
   "id": "b5a0df16",
   "metadata": {},
   "source": [
    "Above, I run 10,000 iterations on 6 threads. As we can see, Peterson's solution for n-threads retains the property of mutual exclusivity. "
   ]
  },
  {
   "cell_type": "code",
   "execution_count": 8,
   "id": "c742b97d",
   "metadata": {
    "scrolled": true
   },
   "outputs": [
    {
     "name": "stdout",
     "output_type": "stream",
     "text": [
      "Iteration 0: x = 21000\n",
      "Iteration 1: x = 21000\n",
      "Iteration 2: x = 21000\n",
      "Iteration 3: x = 21000\n",
      "Iteration 4: x = 21000\n",
      "Iteration 5: x = 21000\n",
      "Iteration 6: x = 21000\n",
      "Iteration 7: x = 21000\n",
      "Iteration 8: x = 21000\n",
      "Iteration 9: x = 21000\n"
     ]
    }
   ],
   "source": [
    "import peterson_nthreads\n",
    "import time\n",
    "\n",
    "x = 0\n",
    " \n",
    "def increment():\n",
    "    global x\n",
    "    x += 1\n",
    "    \n",
    "def thread_task1(lock, my_num):\n",
    "    global turn\n",
    "\n",
    "    for _ in range((my_num+1)*1000):\n",
    "        time.sleep(0.0001)\n",
    "        lock.lock(my_num)\n",
    "        increment()\n",
    "        lock.unlock(my_num)\n",
    "        \n",
    "\n",
    "def main_task():\n",
    "    global x\n",
    " \n",
    "    x = 0\n",
    "   \n",
    "    # create a lock\n",
    "    flags = []\n",
    "    last_to_enter = []\n",
    "    for i in range(6):\n",
    "        flags.append(i)\n",
    "        last_to_enter.append(False)\n",
    "        \n",
    "    lock = peterson_nthreads.PetersonNThreads(flags, last_to_enter)\n",
    "   \n",
    "    threads =[]\n",
    "    for i in range(6):\n",
    "        t = threading.Thread(target=thread_task1, args=(lock, i, ))\n",
    "        threads.append(t)\n",
    "     \n",
    "    for thread in threads:\n",
    "        thread.start()\n",
    "    for thread in threads:\n",
    "        thread.join()\n",
    "        \n",
    " \n",
    "for i in range(10):\n",
    "    main_task()\n",
    "    print(\"Iteration {0}: x = {1}\".format(i,x))"
   ]
  },
  {
   "cell_type": "markdown",
   "id": "d4e06faa",
   "metadata": {},
   "source": [
    "Above, I conduct testing for progress among different threads and different iterations for each thread. We see that progress is also maintained in similar fashion to solution two, peterson's solution, and the bakery solution. "
   ]
  },
  {
   "cell_type": "code",
   "execution_count": 7,
   "id": "0e43aeea",
   "metadata": {},
   "outputs": [
    {
     "name": "stdout",
     "output_type": "stream",
     "text": [
      "Iteration 0: x = 60\n"
     ]
    }
   ],
   "source": [
    "import peterson_nthreads\n",
    "import time\n",
    "\n",
    "x = 0\n",
    " \n",
    "def increment():\n",
    "    global x\n",
    "    x += 1\n",
    "    \n",
    "def thread_task1(lock, my_num):\n",
    "    global turn\n",
    "\n",
    "    for i in range(10):\n",
    "        lock.lock(my_num)\n",
    "        increment()\n",
    "        lock.unlock(my_num)\n",
    "        \n",
    "\n",
    "def main_task():\n",
    "    global x\n",
    " \n",
    "    x = 0\n",
    "   \n",
    "    # create a lock\n",
    "    flags = []\n",
    "    last_to_enter = []\n",
    "    for i in range(6):\n",
    "        flags.append(i)\n",
    "        last_to_enter.append(False)\n",
    "        \n",
    "    lock = peterson_nthreads.PetersonNThreads(flags, last_to_enter)\n",
    "   \n",
    "    threads =[]\n",
    "    for i in range(6):\n",
    "        t = threading.Thread(target=thread_task1, args=(lock, i, ))\n",
    "        threads.append(t)\n",
    "     \n",
    "    for thread in threads:\n",
    "        thread.start()\n",
    "    for thread in threads:\n",
    "        thread.join()\n",
    "        \n",
    " \n",
    "for i in range(1):\n",
    "    main_task()\n",
    "    print(\"Iteration {0}: x = {1}\".format(i,x))"
   ]
  },
  {
   "cell_type": "markdown",
   "id": "d1bb74ed",
   "metadata": {},
   "source": [
    "Finally, I test for bounded wait time above. Peterson's solution fails when it comes to bounded wait time in the n-threaded solution unfortunately, as we saw in class. "
   ]
  },
  {
   "cell_type": "markdown",
   "id": "8435f060",
   "metadata": {},
   "source": [
    "## Acknowledgements\n",
    "\n",
    "I would like to acknowledge professor Al Madi for helpng decide on how to test progress. I would also like to thank Katie Andre for emotional support, as always. I used this link for Peterson's N threads solution: https://en.wikipedia.org/wiki/Peterson%27s_algorithm#:~:text=Peterson's%20algorithm%20\n",
    "\n"
   ]
  }
 ],
 "metadata": {
  "kernelspec": {
   "display_name": "Python 3",
   "language": "python",
   "name": "python3"
  },
  "language_info": {
   "codemirror_mode": {
    "name": "ipython",
    "version": 3
   },
   "file_extension": ".py",
   "mimetype": "text/x-python",
   "name": "python",
   "nbconvert_exporter": "python",
   "pygments_lexer": "ipython3",
   "version": "3.9.12"
  }
 },
 "nbformat": 4,
 "nbformat_minor": 5
}
